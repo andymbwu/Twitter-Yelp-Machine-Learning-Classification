{
 "cells": [
  {
   "cell_type": "markdown",
   "metadata": {},
   "source": [
    "# Required libraries"
   ]
  },
  {
   "cell_type": "code",
   "execution_count": 28,
   "metadata": {},
   "outputs": [],
   "source": [
    "# Data loading and processing libraries\n",
    "import pandas as pd\n",
    "import numpy as np\n",
    "import nltk\n",
    "from nltk.tokenize import word_tokenize, TweetTokenizer\n",
    "from nltk import pos_tag\n",
    "from nltk.corpus import stopwords\n",
    "from nltk.stem import WordNetLemmatizer\n",
    "from sklearn.preprocessing import LabelEncoder\n",
    "from collections import defaultdict\n",
    "from nltk.corpus import wordnet\n",
    "from sklearn.feature_extraction.text import TfidfVectorizer\n",
    "from sklearn.feature_extraction.text import CountVectorizer\n",
    "from sklearn import model_selection, naive_bayes, svm\n",
    "from sklearn.metrics import accuracy_score\n",
    "import string\n",
    "from collections import Counter\n",
    "\n",
    "# Model evaluation libraries\n",
    "from sklearn.model_selection import KFold \n",
    "from sklearn.metrics import accuracy_score\n",
    "from sklearn.metrics import precision_score\n",
    "from sklearn.metrics import recall_score\n",
    "from sklearn.metrics import f1_score\n",
    "from statistics import mean \n",
    "from sklearn.metrics import confusion_matrix\n",
    "\n",
    "# Plotting libraries\n",
    "import seaborn as sn\n",
    "import pandas as pd\n",
    "import matplotlib.pyplot as plt"
   ]
  },
  {
   "cell_type": "markdown",
   "metadata": {},
   "source": [
    "# Importing the dataset and performing preprocessing"
   ]
  },
  {
   "cell_type": "code",
   "execution_count": 35,
   "metadata": {},
   "outputs": [],
   "source": [
    "corpus = pd.read_csv(\"AllAlbertaLabelledV2-ClassifierInput.txt\", sep = \"\\t\", header = None, names = [\"tweet\", \"label\"])\n",
    "\n",
    "string.punctuation += \"'\"\n",
    "\n",
    "corpus['tweet'] = [entry.lower() for entry in corpus['tweet']]\n",
    "corpus['tweet'] = [''.join([x for x in entry if x not in string.punctuation]) for entry in corpus['tweet']]\n",
    "\n",
    "tokenizer = TweetTokenizer()\n",
    "corpus['tweet'] = [tokenizer.tokenize(entry) for entry in corpus['tweet']]\n",
    "\n",
    "final_words = []\n",
    "\n",
    "stop_words = set(stopwords.words(\"english\"))\n",
    "more_stop_words = ['im', 'go', 'us', 'get','or','but','we','my','our','thi','this']\n",
    "more_stop_words_set = set(more_stop_words)\n",
    "stop_words = stop_words.union(more_stop_words_set)\n",
    "\n",
    "for entry in corpus['tweet']:\n",
    "    temp = [x for x in entry if x.isalpha() == True and x.startswith(\"https\") == False and x not in stop_words and len(x) > 1]\n",
    "    final_words.append(temp)\n",
    "\n",
    "final = np.array(final_words)\n",
    "corpus['final'] = final\n",
    "corpus = corpus.drop('tweet', axis = 1)"
   ]
  },
  {
   "cell_type": "markdown",
   "metadata": {},
   "source": [
    "## Functions to lemmatize the input tweets"
   ]
  },
  {
   "cell_type": "code",
   "execution_count": 36,
   "metadata": {},
   "outputs": [],
   "source": [
    "def get_wordnet_pos(treebank_tag):\n",
    "    if treebank_tag.startswith('J'):\n",
    "        return wordnet.ADJ\n",
    "    elif treebank_tag.startswith('V'):\n",
    "        return wordnet.VERB\n",
    "    elif treebank_tag.startswith('N'):\n",
    "        return wordnet.NOUN\n",
    "    elif treebank_tag.startswith('R'):\n",
    "        return wordnet.ADV\n",
    "    else:\n",
    "        return None\n",
    "    \n",
    "def process_tweet (filtered_sentence):\n",
    "\n",
    "    lemmatizer = WordNetLemmatizer() \n",
    "    tagged = nltk.pos_tag(filtered_sentence)\n",
    "    root_sentence = list()\n",
    "    \n",
    "    for pair in tagged:\n",
    "        pos = get_wordnet_pos(pair[1])\n",
    "        if pos != None:\n",
    "            lemma = lemmatizer.lemmatize(pair[0], get_wordnet_pos(pair[1]))\n",
    "            root_sentence.append(lemma)\n",
    "        else:\n",
    "            root_sentence.append(pair[0])\n",
    "    return root_sentence"
   ]
  },
  {
   "cell_type": "code",
   "execution_count": 37,
   "metadata": {},
   "outputs": [],
   "source": [
    "for index, row in corpus.iterrows():\n",
    "    processed_words = process_tweet(row[\"final\"])\n",
    "    corpus.at[index,\"final\"] = processed_words"
   ]
  },
  {
   "cell_type": "markdown",
   "metadata": {},
   "source": [
    "## Word frequencies for manual transformation step of pre processing"
   ]
  },
  {
   "cell_type": "code",
   "execution_count": 38,
   "metadata": {},
   "outputs": [
    {
     "data": {
      "text/plain": [
       "[('food', 216), ('drink', 211), ('pizza', 206)]"
      ]
     },
     "execution_count": 38,
     "metadata": {},
     "output_type": "execute_result"
    }
   ],
   "source": [
    "word_freq = []\n",
    "\n",
    "for index, row in corpus.iterrows():\n",
    "    for item in row[1]:\n",
    "        word_freq.append(item)\n",
    "        \n",
    "c = Counter(word_freq)\n",
    "c.most_common(3)"
   ]
  },
  {
   "cell_type": "code",
   "execution_count": 39,
   "metadata": {},
   "outputs": [],
   "source": [
    "for index, row in corpus.iterrows():\n",
    "    processed_words = process_tweet(row[\"final\"])\n",
    "    corpus.at[index,\"final\"] = ' '.join(processed_words)    "
   ]
  },
  {
   "cell_type": "markdown",
   "metadata": {},
   "source": [
    "# Binary Niave Bayes model"
   ]
  },
  {
   "cell_type": "code",
   "execution_count": 40,
   "metadata": {
    "scrolled": true
   },
   "outputs": [
    {
     "name": "stdout",
     "output_type": "stream",
     "text": [
      "0.8025\n",
      "0.8124789826244208\n",
      "0.9271149321444611\n"
     ]
    }
   ],
   "source": [
    "# 10-fold cross validation Binary Naive Bayes\n",
    "       \n",
    "scores = []\n",
    "accuracy_scores = []\n",
    "precision_scores = []\n",
    "recall_scores = []\n",
    "f1_scores = []\n",
    "\n",
    "binary_vect = CountVectorizer(binary=True)\n",
    "X = corpus['final']\n",
    "Y = corpus['label']\n",
    "Encoder = LabelEncoder()\n",
    "Y = Encoder.fit_transform(Y)\n",
    "binary_vect.fit(X)\n",
    "X = binary_vect.transform(X)\n",
    "Naive = naive_bayes.MultinomialNB()\n",
    "\n",
    "cv = KFold(n_splits=10, random_state=42, shuffle=False)\n",
    "for train_index, test_index in cv.split(X):\n",
    "    #print(\"Train Index: \", train_index, \"\\n\")\n",
    "    #print(\"Test Index: \", test_index)\n",
    "\n",
    "    X_train, X_test, Y_train, Y_test = X[train_index], X[test_index], Y[train_index], Y[test_index]\n",
    "    Naive.fit(X_train, Y_train)\n",
    "    Y_pred = Naive.predict(X_test)\n",
    "    scores.append(Naive.score(X_test, Y_test))\n",
    "    accuracy_scores.append(accuracy_score(Y_test, Y_pred))\n",
    "    precision_scores.append(precision_score(Y_test, Y_pred))\n",
    "    recall_scores.append(recall_score(Y_test, Y_pred))\n",
    "    f1_scores.append(f1_score(Y_test, Y_pred))\n",
    "    \n",
    "print(mean(accuracy_scores))\n",
    "print(mean(precision_scores))\n",
    "print(mean(recall_scores))"
   ]
  },
  {
   "cell_type": "markdown",
   "metadata": {},
   "source": [
    "# Niave Bayes model"
   ]
  },
  {
   "cell_type": "code",
   "execution_count": 41,
   "metadata": {},
   "outputs": [
    {
     "name": "stdout",
     "output_type": "stream",
     "text": [
      "0.807\n",
      "0.8192234602868889\n",
      "0.9232649947648052\n"
     ]
    }
   ],
   "source": [
    "# 10-fold cross validation Naive Bayes\n",
    "    \n",
    "scores = []\n",
    "accuracy_scores = []\n",
    "precision_scores = []\n",
    "recall_scores = []\n",
    "f1_scores = []\n",
    "\n",
    "vect = CountVectorizer()\n",
    "X = corpus['final']\n",
    "Y = corpus['label']\n",
    "Encoder = LabelEncoder()\n",
    "Y = Encoder.fit_transform(Y)\n",
    "vect.fit(X)\n",
    "X = vect.transform(X)\n",
    "Naive = naive_bayes.MultinomialNB()\n",
    "\n",
    "cv = KFold(n_splits=10, random_state=42, shuffle=False)\n",
    "for train_index, test_index in cv.split(X):\n",
    "    #print(\"Train Index: \", train_index, \"\\n\")\n",
    "    #print(\"Test Index: \", test_index)\n",
    "    \n",
    "    X_train, X_test, Y_train, Y_test = X[train_index], X[test_index], Y[train_index], Y[test_index]\n",
    "    Naive.fit(X_train, Y_train)\n",
    "    Y_pred = Naive.predict(X_test)\n",
    "    scores.append(Naive.score(X_test, Y_test))\n",
    "    accuracy_scores.append(accuracy_score(Y_test, Y_pred))\n",
    "    precision_scores.append(precision_score(Y_test, Y_pred))\n",
    "    recall_scores.append(recall_score(Y_test, Y_pred))\n",
    "    f1_scores.append(f1_score(Y_test, Y_pred))\n",
    "    \n",
    "print(mean(accuracy_scores))\n",
    "print(mean(precision_scores))\n",
    "print(mean(recall_scores))"
   ]
  },
  {
   "cell_type": "markdown",
   "metadata": {},
   "source": [
    "# Linear SVM model"
   ]
  },
  {
   "cell_type": "code",
   "execution_count": 42,
   "metadata": {},
   "outputs": [
    {
     "name": "stdout",
     "output_type": "stream",
     "text": [
      "0.797\n",
      "0.8352017207667677\n",
      "0.8774513294677291\n"
     ]
    }
   ],
   "source": [
    "# 10-fold cross validation linear SVM with no TF-IDF\n",
    "  \n",
    "scores = []\n",
    "accuracy_scores = []\n",
    "precision_scores = []\n",
    "recall_scores = []\n",
    "f1_scores = []\n",
    "\n",
    "vect = CountVectorizer()\n",
    "X = corpus['final']\n",
    "Y = corpus['label']\n",
    "Encoder = LabelEncoder()\n",
    "Y = Encoder.fit_transform(Y)\n",
    "vect.fit(X)\n",
    "X = vect.transform(X)\n",
    "SVM = svm.SVC(C=1.0, kernel='linear', degree=3, gamma='auto')\n",
    "\n",
    "cv = KFold(n_splits=10, random_state=42, shuffle=False)\n",
    "for train_index, test_index in cv.split(X):\n",
    "    #print(\"Train Index: \", train_index, \"\\n\")\n",
    "    #print(\"Test Index: \", test_index)\n",
    "\n",
    "    X_train, X_test, Y_train, Y_test = X[train_index], X[test_index], Y[train_index], Y[test_index]\n",
    "    SVM.fit(X_train, Y_train)\n",
    "    Y_pred = SVM.predict(X_test)\n",
    "    scores.append(SVM.score(X_test, Y_test))\n",
    "    accuracy_scores.append(accuracy_score(Y_test, Y_pred))\n",
    "    precision_scores.append(precision_score(Y_test, Y_pred))\n",
    "    recall_scores.append(recall_score(Y_test, Y_pred))\n",
    "    f1_scores.append(f1_score(Y_test, Y_pred))\n",
    "    \n",
    "print(mean(accuracy_scores))\n",
    "print(mean(precision_scores))\n",
    "print(mean(recall_scores))"
   ]
  },
  {
   "cell_type": "markdown",
   "metadata": {},
   "source": [
    "# Linear SVM model with tf-idf"
   ]
  },
  {
   "cell_type": "code",
   "execution_count": 43,
   "metadata": {},
   "outputs": [
    {
     "data": {
      "text/plain": [
       "array([[ 34,  29],\n",
       "       [  8, 129]], dtype=int64)"
      ]
     },
     "execution_count": 43,
     "metadata": {},
     "output_type": "execute_result"
    }
   ],
   "source": [
    "# 10-fold cross validation linear SVM with TF-IDF\n",
    "    \n",
    "scores = []\n",
    "accuracy_scores = []\n",
    "precision_scores = []\n",
    "recall_scores = []\n",
    "f1_scores = []\n",
    "\n",
    "Tfidf_vect = TfidfVectorizer()\n",
    "X = corpus['final']\n",
    "Y = corpus['label']\n",
    "Encoder = LabelEncoder()\n",
    "Y = Encoder.fit_transform(Y)\n",
    "Tfidf_vect.fit(X)\n",
    "X = Tfidf_vect.transform(X)\n",
    "SVM = svm.SVC(C=1.0, kernel='linear', degree=3, gamma='auto')\n",
    "\n",
    "cv = KFold(n_splits=10, random_state=42, shuffle=False)\n",
    "for train_index, test_index in cv.split(X):\n",
    "    #print(\"Train Index: \", train_index, \"\\n\")\n",
    "    #print(\"Test Index: \", test_index)\n",
    "\n",
    "    X_train, X_test, Y_train, Y_test = X[train_index], X[test_index], Y[train_index], Y[test_index]\n",
    "    SVM.fit(X_train, Y_train)\n",
    "    Y_pred = SVM.predict(X_test)\n",
    "    scores.append(SVM.score(X_test, Y_test))\n",
    "    accuracy_scores.append(accuracy_score(Y_test, Y_pred))\n",
    "    precision_scores.append(precision_score(Y_test, Y_pred))\n",
    "    recall_scores.append(recall_score(Y_test, Y_pred))\n",
    "    f1_scores.append(f1_score(Y_test, Y_pred))\n",
    "    \n",
    "# print(mean(accuracy_scores))\n",
    "# print(mean(precision_scores))\n",
    "# print(mean(recall_scores))\n",
    "\n",
    "confusion_matrix(Y_test, Y_pred)"
   ]
  },
  {
   "cell_type": "markdown",
   "metadata": {},
   "source": [
    "# Sample confusion matrix for linear SVM with tf-idf "
   ]
  },
  {
   "cell_type": "code",
   "execution_count": 44,
   "metadata": {},
   "outputs": [
    {
     "name": "stdout",
     "output_type": "stream",
     "text": [
      "Confusion matrix for multiagent systems prediction model:\n",
      "predictions  Food  Not Food\n",
      "actual                     \n",
      "Food           34        29\n",
      "Not food        8       129\n",
      "\n"
     ]
    }
   ],
   "source": [
    "y_test_labelled = [\"Not food\" if x % 2 else \"Food\" for x in Y_test]\n",
    "y_pred_labelled = [\"Not Food\" if x % 2 else \"Food\" for x in Y_pred]\n",
    "ytest = pd.Series(y_test_labelled, name='actual')\n",
    "ypred = pd.Series(y_pred_labelled, name='predictions')\n",
    "print(\"Confusion matrix for multiagent systems prediction model:\",end='\\n')\n",
    "print(pd.crosstab(ytest, ypred),end='\\n\\n')"
   ]
  },
  {
   "cell_type": "code",
   "execution_count": 45,
   "metadata": {},
   "outputs": [
    {
     "data": {
      "text/plain": [
       "Text(0.5, 0.98, 'Confusion Matrix for SVM with tf-idf Classificaion Model')"
      ]
     },
     "execution_count": 45,
     "metadata": {},
     "output_type": "execute_result"
    },
    {
     "data": {
      "image/png": "[encoded data removed]",
      "text/plain": [
       "<Figure size 720x504 with 2 Axes>"
      ]
     },
     "metadata": {
      "needs_background": "light"
     },
     "output_type": "display_data"
    }
   ],
   "source": [
    "# Plot of the confusion matrix showing the results of the machine learning \n",
    "# naive bayes model   \n",
    "\n",
    "array = [[34,29],\n",
    "         [8,129]]\n",
    "df_cm = pd.DataFrame(array, index = [\"Actual Food\", \"Actual Not Food\"],\n",
    "                  columns = [\"Predicted Food\", \"Predicted Not Food\"])\n",
    "plt.figure(figsize = (10,7))\n",
    "sn.heatmap(df_cm, annot=True, cmap=\"Blues\", yticklabels=df_cm.index, xticklabels=df_cm.columns, fmt='g')\n",
    "plt.suptitle('Confusion Matrix for SVM with tf-idf Classificaion Model')"
   ]
  },
  {
   "cell_type": "code",
   "execution_count": null,
   "metadata": {},
   "outputs": [],
   "source": []
  }
 ],
 "metadata": {
  "kernelspec": {
   "display_name": "Python 3",
   "language": "python",
   "name": "python3"
  },
  "language_info": {
   "codemirror_mode": {
    "name": "ipython",
    "version": 3
   },
   "file_extension": ".py",
   "mimetype": "text/x-python",
   "name": "python",
   "nbconvert_exporter": "python",
   "pygments_lexer": "ipython3",
   "version": "3.7.1"
  }
 },
 "nbformat": 4,
 "nbformat_minor": 2
}
